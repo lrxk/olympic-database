{
 "cells": [
  {
   "cell_type": "code",
   "execution_count": 1,
   "metadata": {},
   "outputs": [],
   "source": [
    "from bs4 import BeautifulSoup as soup\n",
    "from urllib.request import urlopen"
   ]
  },
  {
   "cell_type": "code",
   "execution_count": 2,
   "metadata": {},
   "outputs": [],
   "source": [
    "url_part1 = 'https://olympics.com/en/olympic-games/'\n",
    "url_str=url_part1+\"tokyo\"+\"-\"+str(2020)\n",
    "data=urlopen(url_str)\n",
    "page_html = data.read()\n",
    "data.close()\n",
    "page_soup = soup(page_html, 'html.parser')\n",
    "div_soup=page_soup.find_all('div', {\n",
    "                                      'class': 'styles__FactItems-sc-1w4me2-2 daFleI'})"
   ]
  },
  {
   "cell_type": "code",
   "execution_count": 6,
   "metadata": {},
   "outputs": [
    {
     "name": "stdout",
     "output_type": "stream",
     "text": [
      "['July 23 - August 8', 'Japan', '11417', '206', '339']\n"
     ]
    }
   ],
   "source": [
    "data=[]\n",
    "for div in div_soup:\n",
    "    data.append(div.contents[1])\n",
    "print(data)\n"
   ]
  },
  {
   "cell_type": "code",
   "execution_count": 11,
   "metadata": {},
   "outputs": [
    {
     "name": "stdout",
     "output_type": "stream",
     "text": [
      "2021-07-23 00:00:00\n"
     ]
    }
   ],
   "source": [
    "from datetime import datetime\n",
    "start_date=data[0].split(' - ')[0]+' 2021'\n",
    "ending_date=data[0].split(' - ')[1]\n",
    "date=datetime.strptime(start_date,\"%B %d %Y\")\n",
    "print(date)"
   ]
  },
  {
   "cell_type": "code",
   "execution_count": 14,
   "metadata": {},
   "outputs": [
    {
     "name": "stdout",
     "output_type": "stream",
     "text": [
      "['amsterdam-1928', 'antwerp-1920', 'athens-1896', 'athens-2004', 'atlanta-1996', 'barcelona-1992', 'beijing-2008', 'berlin-1936', 'helsinki-1952', 'london-1908', 'london-1948', 'london-2012', 'los-angeles-1932', 'los-angeles-1984', 'melbourne-1956', 'mexico-city-1968', 'montreal-1976', 'moscow-1980', 'munich-1972', 'paris-1900', 'paris-1924', 'rio-2016', 'rome-1960', 'seoul-1988', 'st-louis-1904', 'stockholm-1912', 'sydney-2000', 'tokyo-1964', 'tokyo-2020', 'albertville-1992', 'calgary-1988', 'chamonix-1924', 'cortina-d-ampezzo-1956', 'garmisch-partenkirchen-1936', 'grenoble-1968', 'innsbruck-1964', 'innsbruck-1976', 'lake-placid-1932', 'lake-placid-1980', 'lillehammer-1994', 'nagano-1998', 'oslo-1952', 'pyeongchang-2018', 'salt-lake-city-2002', 'sapporo-1972', 'sarajevo-1984', 'sochi-2014', 'squaw-valley-1960', 'st-moritz-1928', 'st-moritz-1948', 'turin-2006', 'vancouver-2010']\n"
     ]
    }
   ],
   "source": [
    "olympics=[]\n",
    "with open(\"olympic.txt\") as f:\n",
    "    for line in f:\n",
    "        olympics.append(line.replace('\\n',''))\n",
    "print(olympics)\n",
    "\n"
   ]
  },
  {
   "cell_type": "markdown",
   "metadata": {},
   "source": []
  },
  {
   "cell_type": "code",
   "execution_count": 15,
   "metadata": {},
   "outputs": [],
   "source": [
    "import urllib.request\n",
    "soups=[]\n",
    "dates=[]\n",
    "host_country=[]\n",
    "nb_athletes=[]\n",
    "nb_countries=[]\n",
    "nb_teams=[]\n",
    "for i in range(len(olympics)):\n",
    "    url_str=url_part1+olympics[i]\n",
    "    req = urllib.request.Request(\n",
    "        url_str, \n",
    "        data=None, \n",
    "        headers={\n",
    "            'User-Agent': 'Mozilla/5.0 (Windows NT 6.1; Win64; x64; rv:47.0) Gecko/20100101 Firefox/47.0'\n",
    "        }\n",
    "    )\n",
    "    data=urllib.request.urlopen(req)\n",
    "    page_html = data.read().decode('utf-8')\n",
    "    data.close()\n",
    "    page_soup = soup(page_html, 'html.parser')\n",
    "    div_soup=page_soup.find_all('div', {\n",
    "                                      'class': 'styles__FactItems-sc-1w4me2-2 daFleI'})\n",
    "    soups.append(div_soup)\n",
    "\n",
    "        \n",
    "    "
   ]
  },
  {
   "cell_type": "code",
   "execution_count": null,
   "metadata": {},
   "outputs": [],
   "source": [
    "\n",
    "print(soups)"
   ]
  },
  {
   "cell_type": "code",
   "execution_count": 17,
   "metadata": {},
   "outputs": [
    {
     "name": "stdout",
     "output_type": "stream",
     "text": [
      "['Select an Olympic Games', 'Tokyo 2020', 'PyeongChang 2018', 'Rio 2016', 'Sochi 2014', 'London 2012', 'Vancouver 2010', 'Beijing 2008', 'Turin 2006', 'Athens 2004', 'Salt Lake City 2002', 'Sydney 2000', 'Nagano 1998', 'Atlanta 1996', 'Lillehammer 1994', 'Barcelona 1992', 'Albertville 1992', 'Seoul 1988', 'Calgary 1988', 'Los Angeles 1984', 'Sarajevo 1984', 'Moscow 1980', 'Lake Placid 1980', 'Montreal 1976', 'Innsbruck 1976', 'Munich 1972', 'Sapporo 1972', 'Mexico City 1968', 'Grenoble 1968', 'Tokyo 1964', 'Innsbruck 1964', 'Rome 1960', 'Squaw Valley 1960', 'Melbourne 1956', \"Cortina d'Ampezzo 1956\", 'Helsinki 1952', 'Oslo 1952', 'London 1948', 'St. Moritz 1948', 'Berlin 1936', 'Garmisch-Partenkirchen 1936', 'Los Angeles 1932', 'Lake Placid 1932', 'Amsterdam 1928', 'St. Moritz 1928', 'Paris 1924', 'Chamonix 1924', 'Antwerp 1920', 'Stockholm 1912', 'London 1908', 'St. Louis 1904', 'Paris 1900', 'Athens 1896', 'Tokyo 2020', 'Rio 2016', 'London 2012', 'Beijing 2008', 'Athens 2004', 'Sydney 2000', 'Atlanta 1996', 'Barcelona 1992', 'Seoul 1988', 'Los Angeles 1984', 'Moscow 1980', 'Montreal 1976', 'Munich 1972', 'Mexico City 1968', 'Tokyo 1964', 'Rome 1960', 'Melbourne 1956', 'Helsinki 1952', 'London 1948', 'Berlin 1936', 'Los Angeles 1932', 'Amsterdam 1928', 'Paris 1924', 'Antwerp 1920', 'Stockholm 1912', 'London 1908', 'St. Louis 1904', 'Paris 1900', 'Athens 1896', 'PyeongChang 2018', 'Sochi 2014', 'Vancouver 2010', 'Turin 2006', 'Salt Lake City 2002', 'Nagano 1998', 'Lillehammer 1994', 'Albertville 1992', 'Calgary 1988', 'Sarajevo 1984', 'Lake Placid 1980', 'Innsbruck 1976', 'Sapporo 1972', 'Grenoble 1968', 'Innsbruck 1964', 'Squaw Valley 1960', \"Cortina d'Ampezzo 1956\", 'Oslo 1952', 'St. Moritz 1948', 'Garmisch-Partenkirchen 1936', 'Lake Placid 1932', 'St. Moritz 1928', 'Chamonix 1924', 'Select a Sport', 'Select an Event']\n"
     ]
    }
   ],
   "source": [
    "req = urllib.request.Request(\n",
    "        \"https://olympics.com/en/olympic-games/olympic-results\", \n",
    "        data=None, \n",
    "        headers={\n",
    "            'User-Agent': 'Mozilla/5.0 (Windows NT 6.1; Win64; x64; rv:47.0) Gecko/20100101 Firefox/47.0'\n",
    "        }\n",
    "    )\n",
    "data=urllib.request.urlopen(req)\n",
    "page_html = data.read().decode('utf-8')\n",
    "data.close()\n",
    "olympic_game=[]\n",
    "page_soup = soup(page_html, 'html.parser')\n",
    "for node in page_soup.findAll('p', {}):\n",
    "    olympic_game.append(''.join(node.findAll(text=True)))\n",
    "print(olympic_game)"
   ]
  },
  {
   "cell_type": "code",
   "execution_count": 19,
   "metadata": {},
   "outputs": [],
   "source": [
    "olympic_game.remove(\"Select an Olympic Games\")\n",
    "olympic_game.remove(\"Select an Event\")\n",
    "olympic_game.remove('Select a Sport')\n"
   ]
  },
  {
   "cell_type": "code",
   "execution_count": 28,
   "metadata": {},
   "outputs": [
    {
     "name": "stdout",
     "output_type": "stream",
     "text": [
      "[]\n"
     ]
    }
   ],
   "source": [
    "host_cities=[]\n",
    "year=[]\n",
    "for i in range(len(olympic_game)):\n",
    "    host_cities.append(olympic_game[i][:-4])\n",
    "    year.append(olympic_game[i][0:len(olympic_game[i])-5])\n",
    "host_cities=[]\n",
    "year=[]\n",
    "print(year)"
   ]
  },
  {
   "cell_type": "code",
   "execution_count": 30,
   "metadata": {},
   "outputs": [
    {
     "name": "stdout",
     "output_type": "stream",
     "text": [
      "['Tokyo ', 'PyeongChang ', 'Rio ', 'Sochi ', 'London ', 'Vancouver ', 'Beijing ', 'Turin ', 'Athens ', 'Salt Lake City ', 'Sydney ', 'Nagano ', 'Atlanta ', 'Lillehammer ', 'Barcelona ', 'Albertville ', 'Seoul ', 'Calgary ', 'Los Angeles ', 'Sarajevo ', 'Moscow ', 'Lake Placid ', 'Montreal ', 'Innsbruck ', 'Munich ', 'Sapporo ', 'Mexico City ', 'Grenoble ', 'Tokyo ', 'Innsbruck ', 'Rome ', 'Squaw Valley ', 'Melbourne ', \"Cortina d'Ampezzo \", 'Helsinki ', 'Oslo ', 'London ', 'St. Moritz ', 'Berlin ', 'Garmisch-Partenkirchen ', 'Los Angeles ', 'Lake Placid ', 'Amsterdam ', 'St. Moritz ', 'Paris ', 'Chamonix ', 'Antwerp ', 'Stockholm ', 'London ', 'St. Louis ', 'Paris ', 'Athens ', 'Tokyo ', 'Rio ', 'London ', 'Beijing ', 'Athens ', 'Sydney ', 'Atlanta ', 'Barcelona ', 'Seoul ', 'Los Angeles ', 'Moscow ', 'Montreal ', 'Munich ', 'Mexico City ', 'Tokyo ', 'Rome ', 'Melbourne ', 'Helsinki ', 'London ', 'Berlin ', 'Los Angeles ', 'Amsterdam ', 'Paris ', 'Antwerp ', 'Stockholm ', 'London ', 'St. Louis ', 'Paris ', 'Athens ', 'PyeongChang ', 'Sochi ', 'Vancouver ', 'Turin ', 'Salt Lake City ', 'Nagano ', 'Lillehammer ', 'Albertville ', 'Calgary ', 'Sarajevo ', 'Lake Placid ', 'Innsbruck ', 'Sapporo ', 'Grenoble ', 'Innsbruck ', 'Squaw Valley ', \"Cortina d'Ampezzo \", 'Oslo ', 'St. Moritz ', 'Garmisch-Partenkirchen ', 'Lake Placid ', 'St. Moritz ', 'Chamonix ']\n",
      "['2020', None, '2018', None, '2016', None, '2014', None, '2012', None, '2010', None, '2008', None, '2006', None, '2004', None, '2002', None, '2000', None, '1998', None, '1996', None, '1994', None, '1992', None, '1992', None, '1988', None, '1988', None, '1984', None, '1984', None, '1980', None, '1980', None, '1976', None, '1976', None, '1972', None, '1972', None, '1968', None, '1968', None, '1964', None, '1964', None, '1960', None, '1960', None, '1956', None, '1956', None, '1952', None, '1952', None, '1948', None, '1948', None, '1936', None, '1936', None, '1932', None, '1932', None, '1928', None, '1928', None, '1924', None, '1924', None, '1920', None, '1912', None, '1908', None, '1904', None, '1900', None, '1896', None, '2020', None, '2016', None, '2012', None, '2008', None, '2004', None, '2000', None, '1996', None, '1992', None, '1988', None, '1984', None, '1980', None, '1976', None, '1972', None, '1968', None, '1964', None, '1960', None, '1956', None, '1952', None, '1948', None, '1936', None, '1932', None, '1928', None, '1924', None, '1920', None, '1912', None, '1908', None, '1904', None, '1900', None, '1896', None, '2018', None, '2014', None, '2010', None, '2006', None, '2002', None, '1998', None, '1994', None, '1992', None, '1988', None, '1984', None, '1980', None, '1976', None, '1972', None, '1968', None, '1964', None, '1960', None, '1956', None, '1952', None, '1948', None, '1936', None, '1932', None, '1928', None, '1924', None]\n"
     ]
    }
   ],
   "source": [
    "host_cities=[]\n",
    "year=[]\n",
    "for i in range(len(olympic_game)):\n",
    "    host_cities.append(olympic_game[i][:-4])\n",
    "    year.append(year.append(olympic_game[i][len(olympic_game[i])-4:len(olympic_game[i])]))\n",
    "print(host_cities)\n",
    "print(year)"
   ]
  },
  {
   "cell_type": "code",
   "execution_count": 49,
   "metadata": {},
   "outputs": [
    {
     "name": "stdout",
     "output_type": "stream",
     "text": [
      "[]\n",
      "['Tokyo ', 'PyeongChang ', 'Rio ', 'Sochi ', 'London ', 'Vancouver ', 'Beijing ', 'Turin ', 'Athens ', 'Salt Lake City ', 'Sydney ', 'Nagano ', 'Atlanta ', 'Lillehammer ', 'Barcelona ', 'Albertville ', 'Seoul ', 'Calgary ', 'Los Angeles ', 'Sarajevo ', 'Moscow ', 'Lake Placid ', 'Montreal ', 'Innsbruck ', 'Munich ', 'Sapporo ', 'Mexico City ', 'Grenoble ', 'Tokyo ', 'Innsbruck ', 'Rome ', 'Squaw Valley ', 'Melbourne ', \"Cortina d'Ampezzo \", 'Helsinki ', 'Oslo ', 'London ', 'St. Moritz ', 'Berlin ', 'Garmisch-Partenkirchen ', 'Los Angeles ', 'Lake Placid ', 'Amsterdam ', 'St. Moritz ', 'Paris ', 'Chamonix ', 'Antwerp ', 'Stockholm ', 'London ', 'St. Louis ', 'Paris ', 'Athens ', 'Tokyo ', 'Rio ', 'London ', 'Beijing ', 'Athens ', 'Sydney ', 'Atlanta ', 'Barcelona ', 'Seoul ', 'Los Angeles ', 'Moscow ', 'Montreal ', 'Munich ', 'Mexico City ', 'Tokyo ', 'Rome ', 'Melbourne ', 'Helsinki ', 'London ', 'Berlin ', 'Los Angeles ', 'Amsterdam ', 'Paris ', 'Antwerp ', 'Stockholm ', 'London ', 'St. Louis ', 'Paris ', 'Athens ']\n"
     ]
    }
   ],
   "source": [
    "host_cities.clear()\n",
    "print(host_cities)\n",
    "for i in range(len(olympic_game)-23):\n",
    "    host_cities.append(olympic_game[i][:-4])\n",
    "print(host_cities)"
   ]
  },
  {
   "cell_type": "markdown",
   "metadata": {},
   "source": []
  },
  {
   "cell_type": "code",
   "execution_count": 73,
   "metadata": {},
   "outputs": [
    {
     "name": "stdout",
     "output_type": "stream",
     "text": [
      "52\n"
     ]
    }
   ],
   "source": [
    "year.clear()\n",
    "for i in range(102):\n",
    "    year.append(year.append(olympic_game[i][len(olympic_game[i])-4:len(olympic_game[i])]))\n",
    "\n",
    "year=list(filter(lambda x: x != None, year))\n",
    "\n",
    "first=year.index(\"1896\")\n",
    "years=[]\n",
    "for i in range(first+1):\n",
    "    years.append(int(year[i]))\n",
    "host_city=[]\n",
    "for i in range(len(years)):\n",
    "    host_city.append(host_cities[i])\n",
    "print(len(host_city))"
   ]
  },
  {
   "cell_type": "code",
   "execution_count": 34,
   "metadata": {},
   "outputs": [
    {
     "name": "stdout",
     "output_type": "stream",
     "text": [
      "['Tokyo ', 'PyeongChang ', 'Rio ', 'Sochi ', 'London ', 'Vancouver ', 'Beijing ', 'Turin ', 'Athens ', 'Salt Lake City ', 'Sydney ', 'Nagano ', 'Atlanta ', 'Lillehammer ', 'Barcelona ', 'Albertville ', 'Seoul ', 'Calgary ', 'Los Angeles ', 'Sarajevo ', 'Moscow ', 'Lake Placid ', 'Montreal ', 'Innsbruck ', 'Munich ', 'Sapporo ', 'Mexico City ', 'Grenoble ', 'Rome ', 'Squaw Valley ', 'Melbourne ', \"Cortina d'Ampezzo \", 'Helsinki ', 'Oslo ', 'St. Moritz ', 'Berlin ', 'Garmisch-Partenkirchen ', 'Amsterdam ', 'Paris ', 'Chamonix ', 'Antwerp ', 'Stockholm ', 'St. Louis ']\n",
      "['2020', None, '2018', '2016', '2014', '2012', '2010', '2008', '2006', '2004', '2002', '2000', '1998', '1996', '1994', '1992', '1988', '1984', '1980', '1976', '1972', '1968', '1964', '1960', '1956', '1952', '1948', '1936', '1932', '1928', '1924', '1920', '1912', '1908', '1904', '1900', '1896']\n"
     ]
    }
   ],
   "source": [
    "host_cities=list(dict.fromkeys(host_cities))\n",
    "year=list(dict.fromkeys(year))\n",
    "print(host_cities)\n",
    "\n",
    "\n"
   ]
  },
  {
   "cell_type": "code",
   "execution_count": 35,
   "metadata": {},
   "outputs": [
    {
     "name": "stdout",
     "output_type": "stream",
     "text": [
      "['2020', '2018', '2016', '2014', '2012', '2010', '2008', '2006', '2004', '2002', '2000', '1998', '1996', '1994', '1992', '1988', '1984', '1980', '1976', '1972', '1968', '1964', '1960', '1956', '1952', '1948', '1936', '1932', '1928', '1924', '1920', '1912', '1908', '1904', '1900', '1896']\n"
     ]
    }
   ],
   "source": [
    "year.remove(year[1])\n",
    "print(year)"
   ]
  },
  {
   "cell_type": "code",
   "execution_count": 36,
   "metadata": {},
   "outputs": [
    {
     "name": "stdout",
     "output_type": "stream",
     "text": [
      "[2020, 2018, 2016, 2014, 2012, 2010, 2008, 2006, 2004, 2002, 2000, 1998, 1996, 1994, 1992, 1988, 1984, 1980, 1976, 1972, 1968, 1964, 1960, 1956, 1952, 1948, 1936, 1932, 1928, 1924, 1920, 1912, 1908, 1904, 1900, 1896]\n"
     ]
    }
   ],
   "source": [
    "for i in range(len(year)):\n",
    "    year[i]=int(year[i])\n",
    "print(year)"
   ]
  },
  {
   "cell_type": "code",
   "execution_count": 40,
   "metadata": {},
   "outputs": [],
   "source": [
    "dates=[]\n",
    "nb_event=[]\n",
    "for div_soup in soups:\n",
    "    dates.append(div_soup[0].contents[1])\n",
    "    host_country.append(div_soup[1].contents[1])\n",
    "    nb_athletes.append(div_soup[2].contents[1])\n",
    "    nb_countries.append(div_soup[3].contents[1])\n",
    "    nb_event.append(div_soup[4].contents[1])\n",
    "\n",
    "    \n"
   ]
  },
  {
   "cell_type": "code",
   "execution_count": 74,
   "metadata": {},
   "outputs": [
    {
     "name": "stdout",
     "output_type": "stream",
     "text": [
      "52\n"
     ]
    }
   ],
   "source": [
    "for i in range(len(nb_athletes)):\n",
    "    nb_athletes[i]=int(nb_athletes[i])\n",
    "    nb_countries[i]=int(nb_countries[i])\n",
    "    nb_event[i]=int(nb_event[i])\n",
    "print(len(nb_athletes))"
   ]
  },
  {
   "cell_type": "code",
   "execution_count": 84,
   "metadata": {},
   "outputs": [],
   "source": [
    "for i in range(len(host_city)):\n",
    "    host_city[i]=host_city[i].rstrip()\n"
   ]
  },
  {
   "cell_type": "code",
   "execution_count": 85,
   "metadata": {},
   "outputs": [],
   "source": [
    "data={\n",
    "    'host_city':host_city,\n",
    "    'year':years,\n",
    "    'host_country':host_country,\n",
    "    'number_of_athletes':nb_athletes,\n",
    "    'number_of_countries':nb_countries,\n",
    "    'number_of_events':nb_event\n",
    "}\n",
    "import pandas as pd\n",
    "df=pd.DataFrame(data)\n",
    "df.to_csv(\"olympic_stats.csv\",index=False)"
   ]
  },
  {
   "cell_type": "code",
   "execution_count": 82,
   "metadata": {},
   "outputs": [
    {
     "name": "stdout",
     "output_type": "stream",
     "text": [
      "[2020, 2018, 2016, 2014, 2012, 2010, 2008, 2006, 2004, 2002, 2000, 1998, 1996, 1994, 1992, 1992, 1988, 1988, 1984, 1984, 1980, 1980, 1976, 1976, 1972, 1972, 1968, 1968, 1964, 1964, 1960, 1960, 1956, 1956, 1952, 1952, 1948, 1948, 1936, 1936, 1932, 1932, 1928, 1928, 1924, 1924, 1920, 1912, 1908, 1904, 1900, 1896]\n",
      "52\n"
     ]
    }
   ],
   "source": [
    "print(years)\n",
    "print((len(years)))"
   ]
  }
 ],
 "metadata": {
  "interpreter": {
   "hash": "8d16ef93b31b95c0c5902261d11d6683c4cf66816cd8bcfd91565f43a8c415af"
  },
  "kernelspec": {
   "display_name": "Python 3.10.2 64-bit",
   "language": "python",
   "name": "python3"
  },
  "language_info": {
   "codemirror_mode": {
    "name": "ipython",
    "version": 3
   },
   "file_extension": ".py",
   "mimetype": "text/x-python",
   "name": "python",
   "nbconvert_exporter": "python",
   "pygments_lexer": "ipython3",
   "version": "3.10.2"
  },
  "orig_nbformat": 4
 },
 "nbformat": 4,
 "nbformat_minor": 2
}
