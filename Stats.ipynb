{
 "cells": [
  {
   "cell_type": "code",
   "execution_count": 2,
   "metadata": {},
   "outputs": [],
   "source": [
    "from bs4 import BeautifulSoup as soup\n",
    "from urllib.request import urlopen"
   ]
  },
  {
   "cell_type": "code",
   "execution_count": 3,
   "metadata": {},
   "outputs": [],
   "source": [
    "url_part1 = 'https://olympics.com/en/olympic-games/'\n",
    "url_str=url_part1+\"tokyo\"+\"-\"+str(2020)\n",
    "data=urlopen(url_str)\n",
    "page_html = data.read()\n",
    "data.close()\n",
    "page_soup = soup(page_html, 'html.parser')\n",
    "div_soup=page_soup.find_all('div', {\n",
    "                                      'class': 'styles__FactItems-sc-1w4me2-2 daFleI'})"
   ]
  },
  {
   "cell_type": "code",
   "execution_count": null,
   "metadata": {},
   "outputs": [],
   "source": []
  },
  {
   "cell_type": "code",
   "execution_count": 4,
   "metadata": {},
   "outputs": [
    {
     "name": "stdout",
     "output_type": "stream",
     "text": [
      "['July 23 - August 8', 'Japan', '11417', '206', '339']\n"
     ]
    }
   ],
   "source": [
    "data=[]\n",
    "for div in div_soup:\n",
    "    data.append(div.contents[1])\n",
    "print(data)\n"
   ]
  },
  {
   "cell_type": "code",
   "execution_count": 5,
   "metadata": {},
   "outputs": [
    {
     "name": "stdout",
     "output_type": "stream",
     "text": [
      "2021-07-23 00:00:00\n"
     ]
    }
   ],
   "source": [
    "from datetime import datetime\n",
    "start_date=data[0].split(' - ')[0]+' 2021'\n",
    "ending_date=data[0].split(' - ')[1]\n",
    "date=datetime.strptime(start_date,\"%B %d %Y\")\n",
    "print(date)"
   ]
  },
  {
   "cell_type": "code",
   "execution_count": 6,
   "metadata": {},
   "outputs": [
    {
     "name": "stdout",
     "output_type": "stream",
     "text": [
      "['amsterdam-1928', 'antwerp-1920', 'athens-1896', 'athens-2004', 'atlanta-1996', 'barcelona-1992', 'beijing-2008', 'berlin-1936', 'helsinki-1952', 'london-1908', 'london-1948', 'london-2012', 'los-angeles-1932', 'los-angeles-1984', 'melbourne-1956', 'mexico-city-1968', 'montreal-1976', 'moscow-1980', 'munich-1972', 'paris-1900', 'paris-1924', 'rio-2016', 'rome-1960', 'seoul-1988', 'st-louis-1904', 'stockholm-1912', 'sydney-2000', 'tokyo-1964', 'tokyo-2020', 'albertville-1992', 'calgary-1988', 'chamonix-1924', 'cortina-d-ampezzo-1956', 'garmisch-partenkirchen-1936', 'grenoble-1968', 'innsbruck-1964', 'innsbruck-1976', 'lake-placid-1932', 'lake-placid-1980', 'lillehammer-1994', 'nagano-1998', 'oslo-1952', 'pyeongchang-2018', 'salt-lake-city-2002', 'sapporo-1972', 'sarajevo-1984', 'sochi-2014', 'squaw-valley-1960', 'st-moritz-1928', 'st-moritz-1948', 'turin-2006', 'vancouver-2010']\n"
     ]
    }
   ],
   "source": [
    "olympics=[]\n",
    "with open(\"olympic.txt\") as f:\n",
    "    for line in f:\n",
    "        olympics.append(line.replace('\\n',''))\n",
    "print(olympics)\n",
    "\n"
   ]
  },
  {
   "cell_type": "markdown",
   "metadata": {},
   "source": []
  },
  {
   "cell_type": "code",
   "execution_count": 25,
   "metadata": {},
   "outputs": [],
   "source": [
    "import urllib.request\n",
    "soups=[]\n",
    "dates=[]\n",
    "host_country=[]\n",
    "nb_athletes=[]\n",
    "nb_countries=[]\n",
    "nb_teams=[]\n",
    "for i in range(len(olympics)):\n",
    "    url_str=url_part1+olympics[i]\n",
    "    req = urllib.request.Request(\n",
    "        url_str, \n",
    "        data=None, \n",
    "        headers={\n",
    "            'User-Agent': 'Mozilla/5.0 (Windows NT 6.1; Win64; x64; rv:47.0) Gecko/20100101 Firefox/47.0'\n",
    "        }\n",
    "    )\n",
    "    data=urllib.request.urlopen(req)\n",
    "    page_html = data.read().decode('utf-8')\n",
    "    data.close()\n",
    "    page_soup = soup(page_html, 'html.parser')\n",
    "    div_soup=page_soup.find_all('div', {\n",
    "                                      'class': 'styles__FactItems-sc-1w4me2-2 daFleI'})\n",
    "    soups.append(div_soup)\n",
    "\n",
    "        \n",
    "    "
   ]
  },
  {
   "cell_type": "code",
   "execution_count": 26,
   "metadata": {},
   "outputs": [
    {
     "name": "stdout",
     "output_type": "stream",
     "text": [
      "[[<div class=\"styles__FactItems-sc-1w4me2-2 daFleI\"><span>Date</span>July 23 - August 8</div>, <div class=\"styles__FactItems-sc-1w4me2-2 daFleI\"><span>Country</span>Japan</div>, <div class=\"styles__FactItems-sc-1w4me2-2 daFleI\"><span>Athletes</span>11417</div>, <div class=\"styles__FactItems-sc-1w4me2-2 daFleI\"><span>Teams</span>206</div>, <div class=\"styles__FactItems-sc-1w4me2-2 daFleI\"><span>Events</span>339</div>], [<div class=\"styles__FactItems-sc-1w4me2-2 daFleI\"><span>Date</span>February 8 - February 25</div>, <div class=\"styles__FactItems-sc-1w4me2-2 daFleI\"><span>Country</span>Republic of Korea</div>, <div class=\"styles__FactItems-sc-1w4me2-2 daFleI\"><span>Athletes</span>2833</div>, <div class=\"styles__FactItems-sc-1w4me2-2 daFleI\"><span>Teams</span>92</div>, <div class=\"styles__FactItems-sc-1w4me2-2 daFleI\"><span>Events</span>102</div>], [<div class=\"styles__FactItems-sc-1w4me2-2 daFleI\"><span>Date</span>August 5 - August 21</div>, <div class=\"styles__FactItems-sc-1w4me2-2 daFleI\"><span>Country</span>Brazil</div>, <div class=\"styles__FactItems-sc-1w4me2-2 daFleI\"><span>Athletes</span>11238</div>, <div class=\"styles__FactItems-sc-1w4me2-2 daFleI\"><span>Teams</span>207</div>, <div class=\"styles__FactItems-sc-1w4me2-2 daFleI\"><span>Events</span>306</div>], [<div class=\"styles__FactItems-sc-1w4me2-2 daFleI\"><span>Date</span>February 7 - February 23</div>, <div class=\"styles__FactItems-sc-1w4me2-2 daFleI\"><span>Country</span>Russian Federation</div>, <div class=\"styles__FactItems-sc-1w4me2-2 daFleI\"><span>Athletes</span>2780</div>, <div class=\"styles__FactItems-sc-1w4me2-2 daFleI\"><span>Teams</span>88</div>, <div class=\"styles__FactItems-sc-1w4me2-2 daFleI\"><span>Events</span>98</div>], [<div class=\"styles__FactItems-sc-1w4me2-2 daFleI\"><span>Date</span>July 27 - August 12</div>, <div class=\"styles__FactItems-sc-1w4me2-2 daFleI\"><span>Country</span>Great Britain</div>, <div class=\"styles__FactItems-sc-1w4me2-2 daFleI\"><span>Athletes</span>10568</div>, <div class=\"styles__FactItems-sc-1w4me2-2 daFleI\"><span>Teams</span>204</div>, <div class=\"styles__FactItems-sc-1w4me2-2 daFleI\"><span>Events</span>302</div>], [<div class=\"styles__FactItems-sc-1w4me2-2 daFleI\"><span>Date</span>February 12 - February 28</div>, <div class=\"styles__FactItems-sc-1w4me2-2 daFleI\"><span>Country</span>Canada</div>, <div class=\"styles__FactItems-sc-1w4me2-2 daFleI\"><span>Athletes</span>2566</div>, <div class=\"styles__FactItems-sc-1w4me2-2 daFleI\"><span>Teams</span>82</div>, <div class=\"styles__FactItems-sc-1w4me2-2 daFleI\"><span>Events</span>86</div>], [<div class=\"styles__FactItems-sc-1w4me2-2 daFleI\"><span>Date</span>August 8 - August 24</div>, <div class=\"styles__FactItems-sc-1w4me2-2 daFleI\"><span>Country</span>China</div>, <div class=\"styles__FactItems-sc-1w4me2-2 daFleI\"><span>Athletes</span>10942</div>, <div class=\"styles__FactItems-sc-1w4me2-2 daFleI\"><span>Teams</span>204</div>, <div class=\"styles__FactItems-sc-1w4me2-2 daFleI\"><span>Events</span>302</div>], [<div class=\"styles__FactItems-sc-1w4me2-2 daFleI\"><span>Date</span>February 10 - February 26</div>, <div class=\"styles__FactItems-sc-1w4me2-2 daFleI\"><span>Country</span>Italy</div>, <div class=\"styles__FactItems-sc-1w4me2-2 daFleI\"><span>Athletes</span>2508</div>, <div class=\"styles__FactItems-sc-1w4me2-2 daFleI\"><span>Teams</span>80</div>, <div class=\"styles__FactItems-sc-1w4me2-2 daFleI\"><span>Events</span>84</div>], [<div class=\"styles__FactItems-sc-1w4me2-2 daFleI\"><span>Date</span>August 13 - August 29</div>, <div class=\"styles__FactItems-sc-1w4me2-2 daFleI\"><span>Country</span>Greece</div>, <div class=\"styles__FactItems-sc-1w4me2-2 daFleI\"><span>Athletes</span>10625</div>, <div class=\"styles__FactItems-sc-1w4me2-2 daFleI\"><span>Teams</span>201</div>, <div class=\"styles__FactItems-sc-1w4me2-2 daFleI\"><span>Events</span>301</div>], [<div class=\"styles__FactItems-sc-1w4me2-2 daFleI\"><span>Date</span>February 8 - February 24</div>, <div class=\"styles__FactItems-sc-1w4me2-2 daFleI\"><span>Country</span>United States</div>, <div class=\"styles__FactItems-sc-1w4me2-2 daFleI\"><span>Athletes</span>2399</div>, <div class=\"styles__FactItems-sc-1w4me2-2 daFleI\"><span>Teams</span>77</div>, <div class=\"styles__FactItems-sc-1w4me2-2 daFleI\"><span>Events</span>78</div>], [<div class=\"styles__FactItems-sc-1w4me2-2 daFleI\"><span>Date</span>September 15 - October 1</div>, <div class=\"styles__FactItems-sc-1w4me2-2 daFleI\"><span>Country</span>Australia</div>, <div class=\"styles__FactItems-sc-1w4me2-2 daFleI\"><span>Athletes</span>10651</div>, <div class=\"styles__FactItems-sc-1w4me2-2 daFleI\"><span>Teams</span>199</div>, <div class=\"styles__FactItems-sc-1w4me2-2 daFleI\"><span>Events</span>300</div>], [<div class=\"styles__FactItems-sc-1w4me2-2 daFleI\"><span>Date</span>February 6 - February 22</div>, <div class=\"styles__FactItems-sc-1w4me2-2 daFleI\"><span>Country</span>Japan</div>, <div class=\"styles__FactItems-sc-1w4me2-2 daFleI\"><span>Athletes</span>2176</div>, <div class=\"styles__FactItems-sc-1w4me2-2 daFleI\"><span>Teams</span>72</div>, <div class=\"styles__FactItems-sc-1w4me2-2 daFleI\"><span>Events</span>68</div>], [<div class=\"styles__FactItems-sc-1w4me2-2 daFleI\"><span>Date</span>July 19 - August 5</div>, <div class=\"styles__FactItems-sc-1w4me2-2 daFleI\"><span>Country</span>United States</div>, <div class=\"styles__FactItems-sc-1w4me2-2 daFleI\"><span>Athletes</span>10318</div>, <div class=\"styles__FactItems-sc-1w4me2-2 daFleI\"><span>Teams</span>197</div>, <div class=\"styles__FactItems-sc-1w4me2-2 daFleI\"><span>Events</span>271</div>], [<div class=\"styles__FactItems-sc-1w4me2-2 daFleI\"><span>Date</span>February 12 - February 27</div>, <div class=\"styles__FactItems-sc-1w4me2-2 daFleI\"><span>Country</span>Norway</div>, <div class=\"styles__FactItems-sc-1w4me2-2 daFleI\"><span>Athletes</span>1737</div>, <div class=\"styles__FactItems-sc-1w4me2-2 daFleI\"><span>Teams</span>67</div>, <div class=\"styles__FactItems-sc-1w4me2-2 daFleI\"><span>Events</span>61</div>], [<div class=\"styles__FactItems-sc-1w4me2-2 daFleI\"><span>Date</span>July 25 - August 9</div>, <div class=\"styles__FactItems-sc-1w4me2-2 daFleI\"><span>Country</span>Spain</div>, <div class=\"styles__FactItems-sc-1w4me2-2 daFleI\"><span>Athletes</span>9356</div>, <div class=\"styles__FactItems-sc-1w4me2-2 daFleI\"><span>Teams</span>169</div>, <div class=\"styles__FactItems-sc-1w4me2-2 daFleI\"><span>Events</span>257</div>], [<div class=\"styles__FactItems-sc-1w4me2-2 daFleI\"><span>Date</span>February 8 - February 23</div>, <div class=\"styles__FactItems-sc-1w4me2-2 daFleI\"><span>Country</span>France</div>, <div class=\"styles__FactItems-sc-1w4me2-2 daFleI\"><span>Athletes</span>1801</div>, <div class=\"styles__FactItems-sc-1w4me2-2 daFleI\"><span>Teams</span>64</div>, <div class=\"styles__FactItems-sc-1w4me2-2 daFleI\"><span>Events</span>57</div>], [<div class=\"styles__FactItems-sc-1w4me2-2 daFleI\"><span>Date</span>September 16 - October 2</div>, <div class=\"styles__FactItems-sc-1w4me2-2 daFleI\"><span>Country</span>Republic of Korea</div>, <div class=\"styles__FactItems-sc-1w4me2-2 daFleI\"><span>Athletes</span>8397</div>, <div class=\"styles__FactItems-sc-1w4me2-2 daFleI\"><span>Teams</span>159</div>, <div class=\"styles__FactItems-sc-1w4me2-2 daFleI\"><span>Events</span>237</div>], [<div class=\"styles__FactItems-sc-1w4me2-2 daFleI\"><span>Date</span>February 13 - February 28</div>, <div class=\"styles__FactItems-sc-1w4me2-2 daFleI\"><span>Country</span>Canada</div>, <div class=\"styles__FactItems-sc-1w4me2-2 daFleI\"><span>Athletes</span>1423</div>, <div class=\"styles__FactItems-sc-1w4me2-2 daFleI\"><span>Teams</span>57</div>, <div class=\"styles__FactItems-sc-1w4me2-2 daFleI\"><span>Events</span>46</div>], [<div class=\"styles__FactItems-sc-1w4me2-2 daFleI\"><span>Date</span>July 28 - August 12</div>, <div class=\"styles__FactItems-sc-1w4me2-2 daFleI\"><span>Country</span>United States</div>, <div class=\"styles__FactItems-sc-1w4me2-2 daFleI\"><span>Athletes</span>6829</div>, <div class=\"styles__FactItems-sc-1w4me2-2 daFleI\"><span>Teams</span>140</div>, <div class=\"styles__FactItems-sc-1w4me2-2 daFleI\"><span>Events</span>221</div>], [<div class=\"styles__FactItems-sc-1w4me2-2 daFleI\"><span>Date</span>February 8 - February 19</div>, <div class=\"styles__FactItems-sc-1w4me2-2 daFleI\"><span>Country</span>Yugoslavia</div>, <div class=\"styles__FactItems-sc-1w4me2-2 daFleI\"><span>Athletes</span>1272</div>, <div class=\"styles__FactItems-sc-1w4me2-2 daFleI\"><span>Teams</span>49</div>, <div class=\"styles__FactItems-sc-1w4me2-2 daFleI\"><span>Events</span>39</div>], [<div class=\"styles__FactItems-sc-1w4me2-2 daFleI\"><span>Date</span>July 19 - August 3</div>, <div class=\"styles__FactItems-sc-1w4me2-2 daFleI\"><span>Country</span>USSR</div>, <div class=\"styles__FactItems-sc-1w4me2-2 daFleI\"><span>Athletes</span>5179</div>, <div class=\"styles__FactItems-sc-1w4me2-2 daFleI\"><span>Teams</span>80</div>, <div class=\"styles__FactItems-sc-1w4me2-2 daFleI\"><span>Events</span>203</div>], [<div class=\"styles__FactItems-sc-1w4me2-2 daFleI\"><span>Date</span>February 13 - February 24</div>, <div class=\"styles__FactItems-sc-1w4me2-2 daFleI\"><span>Country</span>United States</div>, <div class=\"styles__FactItems-sc-1w4me2-2 daFleI\"><span>Athletes</span>1072</div>, <div class=\"styles__FactItems-sc-1w4me2-2 daFleI\"><span>Teams</span>37</div>, <div class=\"styles__FactItems-sc-1w4me2-2 daFleI\"><span>Events</span>38</div>], [<div class=\"styles__FactItems-sc-1w4me2-2 daFleI\"><span>Date</span>July 17 - July 31</div>, <div class=\"styles__FactItems-sc-1w4me2-2 daFleI\"><span>Country</span>Canada</div>, <div class=\"styles__FactItems-sc-1w4me2-2 daFleI\"><span>Athletes</span>6084</div>, <div class=\"styles__FactItems-sc-1w4me2-2 daFleI\"><span>Teams</span>92</div>, <div class=\"styles__FactItems-sc-1w4me2-2 daFleI\"><span>Events</span>198</div>], [<div class=\"styles__FactItems-sc-1w4me2-2 daFleI\"><span>Date</span>February 4 - February 15</div>, <div class=\"styles__FactItems-sc-1w4me2-2 daFleI\"><span>Country</span>Austria</div>, <div class=\"styles__FactItems-sc-1w4me2-2 daFleI\"><span>Athletes</span>1123</div>, <div class=\"styles__FactItems-sc-1w4me2-2 daFleI\"><span>Teams</span>37</div>, <div class=\"styles__FactItems-sc-1w4me2-2 daFleI\"><span>Events</span>37</div>], [<div class=\"styles__FactItems-sc-1w4me2-2 daFleI\"><span>Date</span>August 26 - September 11</div>, <div class=\"styles__FactItems-sc-1w4me2-2 daFleI\"><span>Country</span>Federal Republic of Germany</div>, <div class=\"styles__FactItems-sc-1w4me2-2 daFleI\"><span>Athletes</span>7134</div>, <div class=\"styles__FactItems-sc-1w4me2-2 daFleI\"><span>Teams</span>121</div>, <div class=\"styles__FactItems-sc-1w4me2-2 daFleI\"><span>Events</span>195</div>], [<div class=\"styles__FactItems-sc-1w4me2-2 daFleI\"><span>Date</span>February 2 - February 13</div>, <div class=\"styles__FactItems-sc-1w4me2-2 daFleI\"><span>Country</span>Japan</div>, <div class=\"styles__FactItems-sc-1w4me2-2 daFleI\"><span>Athletes</span>1006</div>, <div class=\"styles__FactItems-sc-1w4me2-2 daFleI\"><span>Teams</span>35</div>, <div class=\"styles__FactItems-sc-1w4me2-2 daFleI\"><span>Events</span>35</div>], [<div class=\"styles__FactItems-sc-1w4me2-2 daFleI\"><span>Date</span>October 12 - October 28</div>, <div class=\"styles__FactItems-sc-1w4me2-2 daFleI\"><span>Country</span>Mexico</div>, <div class=\"styles__FactItems-sc-1w4me2-2 daFleI\"><span>Athletes</span>5516</div>, <div class=\"styles__FactItems-sc-1w4me2-2 daFleI\"><span>Teams</span>112</div>, <div class=\"styles__FactItems-sc-1w4me2-2 daFleI\"><span>Events</span>172</div>], [<div class=\"styles__FactItems-sc-1w4me2-2 daFleI\"><span>Date</span>February 6 - February 18</div>, <div class=\"styles__FactItems-sc-1w4me2-2 daFleI\"><span>Country</span>France</div>, <div class=\"styles__FactItems-sc-1w4me2-2 daFleI\"><span>Athletes</span>1158</div>, <div class=\"styles__FactItems-sc-1w4me2-2 daFleI\"><span>Teams</span>37</div>, <div class=\"styles__FactItems-sc-1w4me2-2 daFleI\"><span>Events</span>35</div>], [<div class=\"styles__FactItems-sc-1w4me2-2 daFleI\"><span>Date</span>October 9 - October 24</div>, <div class=\"styles__FactItems-sc-1w4me2-2 daFleI\"><span>Country</span>Japan</div>, <div class=\"styles__FactItems-sc-1w4me2-2 daFleI\"><span>Athletes</span>5151</div>, <div class=\"styles__FactItems-sc-1w4me2-2 daFleI\"><span>Teams</span>93</div>, <div class=\"styles__FactItems-sc-1w4me2-2 daFleI\"><span>Events</span>163</div>], [<div class=\"styles__FactItems-sc-1w4me2-2 daFleI\"><span>Date</span>January 29 - February 9</div>, <div class=\"styles__FactItems-sc-1w4me2-2 daFleI\"><span>Country</span>Austria</div>, <div class=\"styles__FactItems-sc-1w4me2-2 daFleI\"><span>Athletes</span>1091</div>, <div class=\"styles__FactItems-sc-1w4me2-2 daFleI\"><span>Teams</span>36</div>, <div class=\"styles__FactItems-sc-1w4me2-2 daFleI\"><span>Events</span>34</div>], [<div class=\"styles__FactItems-sc-1w4me2-2 daFleI\"><span>Date</span>August 25 - September 11</div>, <div class=\"styles__FactItems-sc-1w4me2-2 daFleI\"><span>Country</span>Italy</div>, <div class=\"styles__FactItems-sc-1w4me2-2 daFleI\"><span>Athletes</span>5338</div>, <div class=\"styles__FactItems-sc-1w4me2-2 daFleI\"><span>Teams</span>83</div>, <div class=\"styles__FactItems-sc-1w4me2-2 daFleI\"><span>Events</span>150</div>], [<div class=\"styles__FactItems-sc-1w4me2-2 daFleI\"><span>Date</span>February 18 - February 28</div>, <div class=\"styles__FactItems-sc-1w4me2-2 daFleI\"><span>Country</span>United States</div>, <div class=\"styles__FactItems-sc-1w4me2-2 daFleI\"><span>Athletes</span>665</div>, <div class=\"styles__FactItems-sc-1w4me2-2 daFleI\"><span>Teams</span>30</div>, <div class=\"styles__FactItems-sc-1w4me2-2 daFleI\"><span>Events</span>27</div>], [<div class=\"styles__FactItems-sc-1w4me2-2 daFleI\"><span>Date</span>November 21 - December 8</div>, <div class=\"styles__FactItems-sc-1w4me2-2 daFleI\"><span>Country</span>Australia, Sweden</div>, <div class=\"styles__FactItems-sc-1w4me2-2 daFleI\"><span>Athletes</span>3314</div>, <div class=\"styles__FactItems-sc-1w4me2-2 daFleI\"><span>Teams</span>72</div>, <div class=\"styles__FactItems-sc-1w4me2-2 daFleI\"><span>Events</span>151</div>], [<div class=\"styles__FactItems-sc-1w4me2-2 daFleI\"><span>Date</span>January 26 - February 5</div>, <div class=\"styles__FactItems-sc-1w4me2-2 daFleI\"><span>Country</span>Italy</div>, <div class=\"styles__FactItems-sc-1w4me2-2 daFleI\"><span>Athletes</span>821</div>, <div class=\"styles__FactItems-sc-1w4me2-2 daFleI\"><span>Teams</span>32</div>, <div class=\"styles__FactItems-sc-1w4me2-2 daFleI\"><span>Events</span>24</div>], [<div class=\"styles__FactItems-sc-1w4me2-2 daFleI\"><span>Date</span>July 19 - August 3</div>, <div class=\"styles__FactItems-sc-1w4me2-2 daFleI\"><span>Country</span>Finland</div>, <div class=\"styles__FactItems-sc-1w4me2-2 daFleI\"><span>Athletes</span>4955</div>, <div class=\"styles__FactItems-sc-1w4me2-2 daFleI\"><span>Teams</span>69</div>, <div class=\"styles__FactItems-sc-1w4me2-2 daFleI\"><span>Events</span>149</div>], [<div class=\"styles__FactItems-sc-1w4me2-2 daFleI\"><span>Date</span>February 14 - February 25</div>, <div class=\"styles__FactItems-sc-1w4me2-2 daFleI\"><span>Country</span>Norway</div>, <div class=\"styles__FactItems-sc-1w4me2-2 daFleI\"><span>Athletes</span>694</div>, <div class=\"styles__FactItems-sc-1w4me2-2 daFleI\"><span>Teams</span>30</div>, <div class=\"styles__FactItems-sc-1w4me2-2 daFleI\"><span>Events</span>22</div>], [<div class=\"styles__FactItems-sc-1w4me2-2 daFleI\"><span>Date</span>July 29 - August 14</div>, <div class=\"styles__FactItems-sc-1w4me2-2 daFleI\"><span>Country</span>Great Britain</div>, <div class=\"styles__FactItems-sc-1w4me2-2 daFleI\"><span>Athletes</span>4104</div>, <div class=\"styles__FactItems-sc-1w4me2-2 daFleI\"><span>Teams</span>59</div>, <div class=\"styles__FactItems-sc-1w4me2-2 daFleI\"><span>Events</span>136</div>], [<div class=\"styles__FactItems-sc-1w4me2-2 daFleI\"><span>Date</span>January 30 - February 8</div>, <div class=\"styles__FactItems-sc-1w4me2-2 daFleI\"><span>Country</span>Switzerland</div>, <div class=\"styles__FactItems-sc-1w4me2-2 daFleI\"><span>Athletes</span>669</div>, <div class=\"styles__FactItems-sc-1w4me2-2 daFleI\"><span>Teams</span>28</div>, <div class=\"styles__FactItems-sc-1w4me2-2 daFleI\"><span>Events</span>22</div>], [<div class=\"styles__FactItems-sc-1w4me2-2 daFleI\"><span>Date</span>August 1 - August 16</div>, <div class=\"styles__FactItems-sc-1w4me2-2 daFleI\"><span>Country</span>Germany</div>, <div class=\"styles__FactItems-sc-1w4me2-2 daFleI\"><span>Athletes</span>3963</div>, <div class=\"styles__FactItems-sc-1w4me2-2 daFleI\"><span>Teams</span>49</div>, <div class=\"styles__FactItems-sc-1w4me2-2 daFleI\"><span>Events</span>129</div>], [<div class=\"styles__FactItems-sc-1w4me2-2 daFleI\"><span>Date</span>February 6 - February 16</div>, <div class=\"styles__FactItems-sc-1w4me2-2 daFleI\"><span>Country</span>Germany</div>, <div class=\"styles__FactItems-sc-1w4me2-2 daFleI\"><span>Athletes</span>646</div>, <div class=\"styles__FactItems-sc-1w4me2-2 daFleI\"><span>Teams</span>28</div>, <div class=\"styles__FactItems-sc-1w4me2-2 daFleI\"><span>Events</span>17</div>], [<div class=\"styles__FactItems-sc-1w4me2-2 daFleI\"><span>Date</span>July 30 - August 14</div>, <div class=\"styles__FactItems-sc-1w4me2-2 daFleI\"><span>Country</span>United States</div>, <div class=\"styles__FactItems-sc-1w4me2-2 daFleI\"><span>Athletes</span>1334</div>, <div class=\"styles__FactItems-sc-1w4me2-2 daFleI\"><span>Teams</span>37</div>, <div class=\"styles__FactItems-sc-1w4me2-2 daFleI\"><span>Events</span>117</div>], [<div class=\"styles__FactItems-sc-1w4me2-2 daFleI\"><span>Date</span>February 4 - February 15</div>, <div class=\"styles__FactItems-sc-1w4me2-2 daFleI\"><span>Country</span>United States</div>, <div class=\"styles__FactItems-sc-1w4me2-2 daFleI\"><span>Athletes</span>252</div>, <div class=\"styles__FactItems-sc-1w4me2-2 daFleI\"><span>Teams</span>17</div>, <div class=\"styles__FactItems-sc-1w4me2-2 daFleI\"><span>Events</span>14</div>], [<div class=\"styles__FactItems-sc-1w4me2-2 daFleI\"><span>Date</span>May 17 - August 12</div>, <div class=\"styles__FactItems-sc-1w4me2-2 daFleI\"><span>Country</span>Netherlands</div>, <div class=\"styles__FactItems-sc-1w4me2-2 daFleI\"><span>Athletes</span>2883</div>, <div class=\"styles__FactItems-sc-1w4me2-2 daFleI\"><span>Teams</span>46</div>, <div class=\"styles__FactItems-sc-1w4me2-2 daFleI\"><span>Events</span>109</div>], [<div class=\"styles__FactItems-sc-1w4me2-2 daFleI\"><span>Date</span>February 11 - February 19</div>, <div class=\"styles__FactItems-sc-1w4me2-2 daFleI\"><span>Country</span>Switzerland</div>, <div class=\"styles__FactItems-sc-1w4me2-2 daFleI\"><span>Athletes</span>464</div>, <div class=\"styles__FactItems-sc-1w4me2-2 daFleI\"><span>Teams</span>25</div>, <div class=\"styles__FactItems-sc-1w4me2-2 daFleI\"><span>Events</span>14</div>], [<div class=\"styles__FactItems-sc-1w4me2-2 daFleI\"><span>Date</span>May 4 - July 27</div>, <div class=\"styles__FactItems-sc-1w4me2-2 daFleI\"><span>Country</span>France</div>, <div class=\"styles__FactItems-sc-1w4me2-2 daFleI\"><span>Athletes</span>3088</div>, <div class=\"styles__FactItems-sc-1w4me2-2 daFleI\"><span>Teams</span>44</div>, <div class=\"styles__FactItems-sc-1w4me2-2 daFleI\"><span>Events</span>126</div>], [<div class=\"styles__FactItems-sc-1w4me2-2 daFleI\"><span>Date</span>January 25 - February 5</div>, <div class=\"styles__FactItems-sc-1w4me2-2 daFleI\"><span>Country</span>France</div>, <div class=\"styles__FactItems-sc-1w4me2-2 daFleI\"><span>Athletes</span>260</div>, <div class=\"styles__FactItems-sc-1w4me2-2 daFleI\"><span>Teams</span>16</div>, <div class=\"styles__FactItems-sc-1w4me2-2 daFleI\"><span>Events</span>16</div>], [<div class=\"styles__FactItems-sc-1w4me2-2 daFleI\"><span>Date</span>April 20 - September 12</div>, <div class=\"styles__FactItems-sc-1w4me2-2 daFleI\"><span>Country</span>Belgium</div>, <div class=\"styles__FactItems-sc-1w4me2-2 daFleI\"><span>Athletes</span>2622</div>, <div class=\"styles__FactItems-sc-1w4me2-2 daFleI\"><span>Teams</span>29</div>, <div class=\"styles__FactItems-sc-1w4me2-2 daFleI\"><span>Events</span>156</div>], [<div class=\"styles__FactItems-sc-1w4me2-2 daFleI\"><span>Date</span>May 5 - July 27</div>, <div class=\"styles__FactItems-sc-1w4me2-2 daFleI\"><span>Country</span>Sweden</div>, <div class=\"styles__FactItems-sc-1w4me2-2 daFleI\"><span>Athletes</span>2407</div>, <div class=\"styles__FactItems-sc-1w4me2-2 daFleI\"><span>Teams</span>28</div>, <div class=\"styles__FactItems-sc-1w4me2-2 daFleI\"><span>Events</span>102</div>], [<div class=\"styles__FactItems-sc-1w4me2-2 daFleI\"><span>Date</span>April 27 - October 31</div>, <div class=\"styles__FactItems-sc-1w4me2-2 daFleI\"><span>Country</span>Great Britain</div>, <div class=\"styles__FactItems-sc-1w4me2-2 daFleI\"><span>Athletes</span>2008</div>, <div class=\"styles__FactItems-sc-1w4me2-2 daFleI\"><span>Teams</span>22</div>, <div class=\"styles__FactItems-sc-1w4me2-2 daFleI\"><span>Events</span>110</div>], [<div class=\"styles__FactItems-sc-1w4me2-2 daFleI\"><span>Date</span>July 1 - November 24</div>, <div class=\"styles__FactItems-sc-1w4me2-2 daFleI\"><span>Country</span>United States</div>, <div class=\"styles__FactItems-sc-1w4me2-2 daFleI\"><span>Athletes</span>651</div>, <div class=\"styles__FactItems-sc-1w4me2-2 daFleI\"><span>Teams</span>12</div>, <div class=\"styles__FactItems-sc-1w4me2-2 daFleI\"><span>Events</span>95</div>], [<div class=\"styles__FactItems-sc-1w4me2-2 daFleI\"><span>Date</span>May 14 - October 28</div>, <div class=\"styles__FactItems-sc-1w4me2-2 daFleI\"><span>Country</span>France</div>, <div class=\"styles__FactItems-sc-1w4me2-2 daFleI\"><span>Athletes</span>1226</div>, <div class=\"styles__FactItems-sc-1w4me2-2 daFleI\"><span>Teams</span>26</div>, <div class=\"styles__FactItems-sc-1w4me2-2 daFleI\"><span>Events</span>96</div>], [<div class=\"styles__FactItems-sc-1w4me2-2 daFleI\"><span>Date</span>April 6 - April 15</div>, <div class=\"styles__FactItems-sc-1w4me2-2 daFleI\"><span>Country</span>Greece</div>, <div class=\"styles__FactItems-sc-1w4me2-2 daFleI\"><span>Athletes</span>241</div>, <div class=\"styles__FactItems-sc-1w4me2-2 daFleI\"><span>Teams</span>14</div>, <div class=\"styles__FactItems-sc-1w4me2-2 daFleI\"><span>Events</span>43</div>]]\n"
     ]
    }
   ],
   "source": [
    "\n",
    "print(soups)"
   ]
  },
  {
   "cell_type": "code",
   "execution_count": 27,
   "metadata": {},
   "outputs": [
    {
     "name": "stdout",
     "output_type": "stream",
     "text": [
      "['Select an Olympic Games', 'Tokyo 2020', 'PyeongChang 2018', 'Rio 2016', 'Sochi 2014', 'London 2012', 'Vancouver 2010', 'Beijing 2008', 'Turin 2006', 'Athens 2004', 'Salt Lake City 2002', 'Sydney 2000', 'Nagano 1998', 'Atlanta 1996', 'Lillehammer 1994', 'Barcelona 1992', 'Albertville 1992', 'Seoul 1988', 'Calgary 1988', 'Los Angeles 1984', 'Sarajevo 1984', 'Moscow 1980', 'Lake Placid 1980', 'Montreal 1976', 'Innsbruck 1976', 'Munich 1972', 'Sapporo 1972', 'Mexico City 1968', 'Grenoble 1968', 'Tokyo 1964', 'Innsbruck 1964', 'Rome 1960', 'Squaw Valley 1960', 'Melbourne 1956', \"Cortina d'Ampezzo 1956\", 'Helsinki 1952', 'Oslo 1952', 'London 1948', 'St. Moritz 1948', 'Berlin 1936', 'Garmisch-Partenkirchen 1936', 'Los Angeles 1932', 'Lake Placid 1932', 'Amsterdam 1928', 'St. Moritz 1928', 'Paris 1924', 'Chamonix 1924', 'Antwerp 1920', 'Stockholm 1912', 'London 1908', 'St. Louis 1904', 'Paris 1900', 'Athens 1896', 'Tokyo 2020', 'Rio 2016', 'London 2012', 'Beijing 2008', 'Athens 2004', 'Sydney 2000', 'Atlanta 1996', 'Barcelona 1992', 'Seoul 1988', 'Los Angeles 1984', 'Moscow 1980', 'Montreal 1976', 'Munich 1972', 'Mexico City 1968', 'Tokyo 1964', 'Rome 1960', 'Melbourne 1956', 'Helsinki 1952', 'London 1948', 'Berlin 1936', 'Los Angeles 1932', 'Amsterdam 1928', 'Paris 1924', 'Antwerp 1920', 'Stockholm 1912', 'London 1908', 'St. Louis 1904', 'Paris 1900', 'Athens 1896', 'PyeongChang 2018', 'Sochi 2014', 'Vancouver 2010', 'Turin 2006', 'Salt Lake City 2002', 'Nagano 1998', 'Lillehammer 1994', 'Albertville 1992', 'Calgary 1988', 'Sarajevo 1984', 'Lake Placid 1980', 'Innsbruck 1976', 'Sapporo 1972', 'Grenoble 1968', 'Innsbruck 1964', 'Squaw Valley 1960', \"Cortina d'Ampezzo 1956\", 'Oslo 1952', 'St. Moritz 1948', 'Garmisch-Partenkirchen 1936', 'Lake Placid 1932', 'St. Moritz 1928', 'Chamonix 1924', 'Select a Sport', 'Select an Event']\n"
     ]
    }
   ],
   "source": [
    "req = urllib.request.Request(\n",
    "        \"https://olympics.com/en/olympic-games/olympic-results\", \n",
    "        data=None, \n",
    "        headers={\n",
    "            'User-Agent': 'Mozilla/5.0 (Windows NT 6.1; Win64; x64; rv:47.0) Gecko/20100101 Firefox/47.0'\n",
    "        }\n",
    "    )\n",
    "data=urllib.request.urlopen(req)\n",
    "page_html = data.read().decode('utf-8')\n",
    "data.close()\n",
    "olympic_game=[]\n",
    "page_soup = soup(page_html, 'html.parser')\n",
    "for node in page_soup.findAll('p', {}):\n",
    "    olympic_game.append(''.join(node.findAll(text=True)))\n",
    "print(olympic_game)"
   ]
  },
  {
   "cell_type": "code",
   "execution_count": 28,
   "metadata": {},
   "outputs": [],
   "source": [
    "olympic_game.remove(\"Select an Olympic Games\")\n",
    "olympic_game.remove(\"Select an Event\")\n",
    "olympic_game.remove('Select a Sport')\n"
   ]
  },
  {
   "cell_type": "code",
   "execution_count": 29,
   "metadata": {},
   "outputs": [
    {
     "name": "stdout",
     "output_type": "stream",
     "text": [
      "[]\n"
     ]
    }
   ],
   "source": [
    "host_cities=[]\n",
    "year=[]\n",
    "for i in range(len(olympic_game)):\n",
    "    host_cities.append(olympic_game[i][:-4])\n",
    "    year.append(olympic_game[i][0:len(olympic_game[i])-5])\n",
    "host_cities=[]\n",
    "year=[]\n",
    "print(year)"
   ]
  },
  {
   "cell_type": "code",
   "execution_count": 30,
   "metadata": {},
   "outputs": [
    {
     "name": "stdout",
     "output_type": "stream",
     "text": [
      "['Tokyo ', 'PyeongChang ', 'Rio ', 'Sochi ', 'London ', 'Vancouver ', 'Beijing ', 'Turin ', 'Athens ', 'Salt Lake City ', 'Sydney ', 'Nagano ', 'Atlanta ', 'Lillehammer ', 'Barcelona ', 'Albertville ', 'Seoul ', 'Calgary ', 'Los Angeles ', 'Sarajevo ', 'Moscow ', 'Lake Placid ', 'Montreal ', 'Innsbruck ', 'Munich ', 'Sapporo ', 'Mexico City ', 'Grenoble ', 'Tokyo ', 'Innsbruck ', 'Rome ', 'Squaw Valley ', 'Melbourne ', \"Cortina d'Ampezzo \", 'Helsinki ', 'Oslo ', 'London ', 'St. Moritz ', 'Berlin ', 'Garmisch-Partenkirchen ', 'Los Angeles ', 'Lake Placid ', 'Amsterdam ', 'St. Moritz ', 'Paris ', 'Chamonix ', 'Antwerp ', 'Stockholm ', 'London ', 'St. Louis ', 'Paris ', 'Athens ', 'Tokyo ', 'Rio ', 'London ', 'Beijing ', 'Athens ', 'Sydney ', 'Atlanta ', 'Barcelona ', 'Seoul ', 'Los Angeles ', 'Moscow ', 'Montreal ', 'Munich ', 'Mexico City ', 'Tokyo ', 'Rome ', 'Melbourne ', 'Helsinki ', 'London ', 'Berlin ', 'Los Angeles ', 'Amsterdam ', 'Paris ', 'Antwerp ', 'Stockholm ', 'London ', 'St. Louis ', 'Paris ', 'Athens ', 'PyeongChang ', 'Sochi ', 'Vancouver ', 'Turin ', 'Salt Lake City ', 'Nagano ', 'Lillehammer ', 'Albertville ', 'Calgary ', 'Sarajevo ', 'Lake Placid ', 'Innsbruck ', 'Sapporo ', 'Grenoble ', 'Innsbruck ', 'Squaw Valley ', \"Cortina d'Ampezzo \", 'Oslo ', 'St. Moritz ', 'Garmisch-Partenkirchen ', 'Lake Placid ', 'St. Moritz ', 'Chamonix ']\n",
      "['2020', None, '2018', None, '2016', None, '2014', None, '2012', None, '2010', None, '2008', None, '2006', None, '2004', None, '2002', None, '2000', None, '1998', None, '1996', None, '1994', None, '1992', None, '1992', None, '1988', None, '1988', None, '1984', None, '1984', None, '1980', None, '1980', None, '1976', None, '1976', None, '1972', None, '1972', None, '1968', None, '1968', None, '1964', None, '1964', None, '1960', None, '1960', None, '1956', None, '1956', None, '1952', None, '1952', None, '1948', None, '1948', None, '1936', None, '1936', None, '1932', None, '1932', None, '1928', None, '1928', None, '1924', None, '1924', None, '1920', None, '1912', None, '1908', None, '1904', None, '1900', None, '1896', None, '2020', None, '2016', None, '2012', None, '2008', None, '2004', None, '2000', None, '1996', None, '1992', None, '1988', None, '1984', None, '1980', None, '1976', None, '1972', None, '1968', None, '1964', None, '1960', None, '1956', None, '1952', None, '1948', None, '1936', None, '1932', None, '1928', None, '1924', None, '1920', None, '1912', None, '1908', None, '1904', None, '1900', None, '1896', None, '2018', None, '2014', None, '2010', None, '2006', None, '2002', None, '1998', None, '1994', None, '1992', None, '1988', None, '1984', None, '1980', None, '1976', None, '1972', None, '1968', None, '1964', None, '1960', None, '1956', None, '1952', None, '1948', None, '1936', None, '1932', None, '1928', None, '1924', None]\n"
     ]
    }
   ],
   "source": [
    "host_cities=[]\n",
    "year=[]\n",
    "for i in range(len(olympic_game)):\n",
    "    host_cities.append(olympic_game[i][:-4])\n",
    "    year.append(year.append(olympic_game[i][len(olympic_game[i])-4:len(olympic_game[i])]))\n",
    "print(host_cities)\n",
    "print(year)"
   ]
  },
  {
   "cell_type": "code",
   "execution_count": 31,
   "metadata": {},
   "outputs": [
    {
     "name": "stdout",
     "output_type": "stream",
     "text": [
      "[]\n",
      "['Tokyo ', 'PyeongChang ', 'Rio ', 'Sochi ', 'London ', 'Vancouver ', 'Beijing ', 'Turin ', 'Athens ', 'Salt Lake City ', 'Sydney ', 'Nagano ', 'Atlanta ', 'Lillehammer ', 'Barcelona ', 'Albertville ', 'Seoul ', 'Calgary ', 'Los Angeles ', 'Sarajevo ', 'Moscow ', 'Lake Placid ', 'Montreal ', 'Innsbruck ', 'Munich ', 'Sapporo ', 'Mexico City ', 'Grenoble ', 'Tokyo ', 'Innsbruck ', 'Rome ', 'Squaw Valley ', 'Melbourne ', \"Cortina d'Ampezzo \", 'Helsinki ', 'Oslo ', 'London ', 'St. Moritz ', 'Berlin ', 'Garmisch-Partenkirchen ', 'Los Angeles ', 'Lake Placid ', 'Amsterdam ', 'St. Moritz ', 'Paris ', 'Chamonix ', 'Antwerp ', 'Stockholm ', 'London ', 'St. Louis ', 'Paris ', 'Athens ', 'Tokyo ', 'Rio ', 'London ', 'Beijing ', 'Athens ', 'Sydney ', 'Atlanta ', 'Barcelona ', 'Seoul ', 'Los Angeles ', 'Moscow ', 'Montreal ', 'Munich ', 'Mexico City ', 'Tokyo ', 'Rome ', 'Melbourne ', 'Helsinki ', 'London ', 'Berlin ', 'Los Angeles ', 'Amsterdam ', 'Paris ', 'Antwerp ', 'Stockholm ', 'London ', 'St. Louis ', 'Paris ', 'Athens ']\n"
     ]
    }
   ],
   "source": [
    "host_cities.clear()\n",
    "print(host_cities)\n",
    "for i in range(len(olympic_game)-23):\n",
    "    host_cities.append(olympic_game[i][:-4])\n",
    "print(host_cities)"
   ]
  },
  {
   "cell_type": "markdown",
   "metadata": {},
   "source": []
  },
  {
   "cell_type": "code",
   "execution_count": 32,
   "metadata": {},
   "outputs": [
    {
     "name": "stdout",
     "output_type": "stream",
     "text": [
      "52\n"
     ]
    }
   ],
   "source": [
    "year.clear()\n",
    "for i in range(102):\n",
    "    year.append(year.append(olympic_game[i][len(olympic_game[i])-4:len(olympic_game[i])]))\n",
    "\n",
    "year=list(filter(lambda x: x != None, year))\n",
    "\n",
    "first=year.index(\"1896\")\n",
    "years=[]\n",
    "for i in range(first+1):\n",
    "    years.append(int(year[i]))\n",
    "host_city=[]\n",
    "for i in range(len(years)):\n",
    "    host_city.append(host_cities[i])\n",
    "print(len(host_city))"
   ]
  },
  {
   "cell_type": "code",
   "execution_count": 15,
   "metadata": {},
   "outputs": [
    {
     "name": "stdout",
     "output_type": "stream",
     "text": [
      "['Tokyo ', 'PyeongChang ', 'Rio ', 'Sochi ', 'London ', 'Vancouver ', 'Beijing ', 'Turin ', 'Athens ', 'Salt Lake City ', 'Sydney ', 'Nagano ', 'Atlanta ', 'Lillehammer ', 'Barcelona ', 'Albertville ', 'Seoul ', 'Calgary ', 'Los Angeles ', 'Sarajevo ', 'Moscow ', 'Lake Placid ', 'Montreal ', 'Innsbruck ', 'Munich ', 'Sapporo ', 'Mexico City ', 'Grenoble ', 'Rome ', 'Squaw Valley ', 'Melbourne ', \"Cortina d'Ampezzo \", 'Helsinki ', 'Oslo ', 'St. Moritz ', 'Berlin ', 'Garmisch-Partenkirchen ', 'Amsterdam ', 'Paris ', 'Chamonix ', 'Antwerp ', 'Stockholm ', 'St. Louis ']\n"
     ]
    }
   ],
   "source": [
    "host_cities=list(dict.fromkeys(host_cities))\n",
    "year=list(dict.fromkeys(year))\n",
    "print(host_cities)\n",
    "\n",
    "\n"
   ]
  },
  {
   "cell_type": "code",
   "execution_count": 16,
   "metadata": {},
   "outputs": [
    {
     "name": "stdout",
     "output_type": "stream",
     "text": [
      "['2020', '2016', '2014', '2012', '2010', '2008', '2006', '2004', '2002', '2000', '1998', '1996', '1994', '1992', '1988', '1984', '1980', '1976', '1972', '1968', '1964', '1960', '1956', '1952', '1948', '1936', '1932', '1928', '1924', '1920', '1912', '1908', '1904', '1900', '1896']\n"
     ]
    }
   ],
   "source": [
    "year.remove(year[1])\n",
    "print(year)"
   ]
  },
  {
   "cell_type": "code",
   "execution_count": 33,
   "metadata": {},
   "outputs": [
    {
     "name": "stdout",
     "output_type": "stream",
     "text": [
      "[2020, 2018, 2016, 2014, 2012, 2010, 2008, 2006, 2004, 2002, 2000, 1998, 1996, 1994, 1992, 1992, 1988, 1988, 1984, 1984, 1980, 1980, 1976, 1976, 1972, 1972, 1968, 1968, 1964, 1964, 1960, 1960, 1956, 1956, 1952, 1952, 1948, 1948, 1936, 1936, 1932, 1932, 1928, 1928, 1924, 1924, 1920, 1912, 1908, 1904, 1900, 1896, 2020, 2016, 2012, 2008, 2004, 2000, 1996, 1992, 1988, 1984, 1980, 1976, 1972, 1968, 1964, 1960, 1956, 1952, 1948, 1936, 1932, 1928, 1924, 1920, 1912, 1908, 1904, 1900, 1896, 2018, 2014, 2010, 2006, 2002, 1998, 1994, 1992, 1988, 1984, 1980, 1976, 1972, 1968, 1964, 1960, 1956, 1952, 1948, 1936, 1932]\n"
     ]
    }
   ],
   "source": [
    "for i in range(len(year)):\n",
    "    year[i]=int(year[i])\n",
    "print(year)"
   ]
  },
  {
   "cell_type": "code",
   "execution_count": 34,
   "metadata": {},
   "outputs": [],
   "source": [
    "dates=[]\n",
    "nb_event=[]\n",
    "for div_soup in soups:\n",
    "    dates.append(div_soup[0].contents[1])\n",
    "    host_country.append(div_soup[1].contents[1])\n",
    "    nb_athletes.append(div_soup[2].contents[1])\n",
    "    nb_countries.append(div_soup[3].contents[1])\n",
    "    nb_event.append(div_soup[4].contents[1])\n",
    "\n",
    "    \n"
   ]
  },
  {
   "cell_type": "code",
   "execution_count": 35,
   "metadata": {},
   "outputs": [
    {
     "name": "stdout",
     "output_type": "stream",
     "text": [
      "52\n"
     ]
    }
   ],
   "source": [
    "for i in range(len(nb_athletes)):\n",
    "    nb_athletes[i]=int(nb_athletes[i])\n",
    "    nb_countries[i]=int(nb_countries[i])\n",
    "    nb_event[i]=int(nb_event[i])\n",
    "print(len(nb_athletes))"
   ]
  },
  {
   "cell_type": "code",
   "execution_count": 36,
   "metadata": {},
   "outputs": [],
   "source": [
    "for i in range(len(host_city)):\n",
    "    host_city[i]=host_city[i].rstrip()\n"
   ]
  },
  {
   "cell_type": "code",
   "execution_count": 37,
   "metadata": {},
   "outputs": [],
   "source": [
    "data={\n",
    "    'host_city':host_city,\n",
    "    'year':years,\n",
    "    'host_country':host_country,\n",
    "    'number_of_athletes':nb_athletes,\n",
    "    'number_of_countries':nb_countries,\n",
    "    'number_of_events':nb_event\n",
    "}\n",
    "import pandas as pd\n",
    "df=pd.DataFrame(data)\n",
    "df.to_csv(\"olympic_stats.csv\",index=False)"
   ]
  },
  {
   "cell_type": "code",
   "execution_count": 38,
   "metadata": {},
   "outputs": [
    {
     "name": "stdout",
     "output_type": "stream",
     "text": [
      "[2020, 2018, 2016, 2014, 2012, 2010, 2008, 2006, 2004, 2002, 2000, 1998, 1996, 1994, 1992, 1992, 1988, 1988, 1984, 1984, 1980, 1980, 1976, 1976, 1972, 1972, 1968, 1968, 1964, 1964, 1960, 1960, 1956, 1956, 1952, 1952, 1948, 1948, 1936, 1936, 1932, 1932, 1928, 1928, 1924, 1924, 1920, 1912, 1908, 1904, 1900, 1896]\n",
      "52\n",
      "['Japan', 'Republic of Korea', 'Brazil', 'Russian Federation', 'Great Britain', 'Canada', 'China', 'Italy', 'Greece', 'United States', 'Australia', 'Japan', 'United States', 'Norway', 'Spain', 'France', 'Republic of Korea', 'Canada', 'United States', 'Yugoslavia', 'USSR', 'United States', 'Canada', 'Austria', 'Federal Republic of Germany', 'Japan', 'Mexico', 'France', 'Japan', 'Austria', 'Italy', 'United States', 'Australia, Sweden', 'Italy', 'Finland', 'Norway', 'Great Britain', 'Switzerland', 'Germany', 'Germany', 'United States', 'United States', 'Netherlands', 'Switzerland', 'France', 'France', 'Belgium', 'Sweden', 'Great Britain', 'United States', 'France', 'Greece']\n"
     ]
    }
   ],
   "source": [
    "print(years)\n",
    "print((len(years)))\n",
    "print(host_country)"
   ]
  },
  {
   "cell_type": "code",
   "execution_count": 23,
   "metadata": {},
   "outputs": [
    {
     "name": "stdout",
     "output_type": "stream",
     "text": [
      "['tokyo-2020', 'pyeongchang-2018', 'rio-2016', 'sochi-2014', 'london-2012', 'vancouver-2010', 'beijing-2008', 'turin-2006', 'athens-2004', 'salt lake city-2002', 'sydney-2000', 'nagano-1998', 'atlanta-1996', 'lillehammer-1994', 'barcelona-1992', 'albertville-1992', 'seoul-1988', 'calgary-1988', 'los angeles-1984', 'sarajevo-1984', 'moscow-1980', 'lake placid-1980', 'montreal-1976', 'innsbruck-1976', 'munich-1972', 'sapporo-1972', 'mexico city-1968', 'grenoble-1968', 'tokyo-1964', 'innsbruck-1964', 'rome-1960', 'squaw valley-1960', 'melbourne-1956', \"cortina d'ampezzo-1956\", 'helsinki-1952', 'oslo-1952', 'london-1948', 'st. moritz-1948', 'berlin-1936', 'garmisch-partenkirchen-1936', 'los angeles-1932', 'lake placid-1932', 'amsterdam-1928', 'st. moritz-1928', 'paris-1924', 'chamonix-1924', 'antwerp-1920', 'stockholm-1912', 'london-1908', 'st. louis-1904', 'paris-1900', 'athens-1896']\n"
     ]
    }
   ],
   "source": [
    "olympics=[]\n",
    "for i in range(len(host_city)):\n",
    "    olympics.append(host_city[i].lower()+'-'+str(years[i]))\n",
    "print(olympics)"
   ]
  },
  {
   "cell_type": "code",
   "execution_count": 24,
   "metadata": {},
   "outputs": [
    {
     "name": "stdout",
     "output_type": "stream",
     "text": [
      "['tokyo-2020', 'pyeongchang-2018', 'rio-2016', 'sochi-2014', 'london-2012', 'vancouver-2010', 'beijing-2008', 'turin-2006', 'athens-2004', 'salt-lake-city-2002', 'sydney-2000', 'nagano-1998', 'atlanta-1996', 'lillehammer-1994', 'barcelona-1992', 'albertville-1992', 'seoul-1988', 'calgary-1988', 'los-angeles-1984', 'sarajevo-1984', 'moscow-1980', 'lake-placid-1980', 'montreal-1976', 'innsbruck-1976', 'munich-1972', 'sapporo-1972', 'mexico-city-1968', 'grenoble-1968', 'tokyo-1964', 'innsbruck-1964', 'rome-1960', 'squaw-valley-1960', 'melbourne-1956', 'cortina-d-ampezzo-1956', 'helsinki-1952', 'oslo-1952', 'london-1948', 'st-moritz-1948', 'berlin-1936', 'garmisch-partenkirchen-1936', 'los-angeles-1932', 'lake-placid-1932', 'amsterdam-1928', 'st-moritz-1928', 'paris-1924', 'chamonix-1924', 'antwerp-1920', 'stockholm-1912', 'london-1908', 'st-louis-1904', 'paris-1900', 'athens-1896']\n"
     ]
    }
   ],
   "source": [
    "for i in range(len(olympics)):\n",
    "    olympics[i]=olympics[i].replace('. ','-')\n",
    "    olympics[i]=olympics[i].replace(' ','-')\n",
    "    olympics[i]=olympics[i].replace(\"'\",'-')\n",
    "print(olympics)"
   ]
  }
 ],
 "metadata": {
  "interpreter": {
   "hash": "8d16ef93b31b95c0c5902261d11d6683c4cf66816cd8bcfd91565f43a8c415af"
  },
  "kernelspec": {
   "display_name": "Python 3.10.2 64-bit",
   "language": "python",
   "name": "python3"
  },
  "language_info": {
   "codemirror_mode": {
    "name": "ipython",
    "version": 3
   },
   "file_extension": ".py",
   "mimetype": "text/x-python",
   "name": "python",
   "nbconvert_exporter": "python",
   "pygments_lexer": "ipython3",
   "version": "3.10.2"
  },
  "orig_nbformat": 4
 },
 "nbformat": 4,
 "nbformat_minor": 2
}
